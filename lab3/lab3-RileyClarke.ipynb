{
 "cells": [
  {
   "cell_type": "code",
   "execution_count": 1,
   "metadata": {
    "collapsed": true
   },
   "outputs": [],
   "source": [
    "%matplotlib inline\n",
    "import numpy as np\n",
    "import matplotlib.pyplot as plt\n",
    "import time\n",
    "# see also the \"datetime\" package\n",
    "import solutions"
   ]
  },
  {
   "cell_type": "markdown",
   "metadata": {},
   "source": [
    "# Part 2: Speed Racer!\n",
    "Let's figure out which of the solutions from last week is the fastest. \n",
    "\n",
    "To do this, we want to evaluate the runtime for a varying number of coordinates."
   ]
  },
  {
   "cell_type": "code",
   "execution_count": 2,
   "metadata": {
    "collapsed": false
   },
   "outputs": [
    {
     "data": {
      "text/plain": [
       "1461717770.618096"
      ]
     },
     "execution_count": 2,
     "metadata": {},
     "output_type": "execute_result"
    }
   ],
   "source": [
    "# This tells you the system time in seconds (from some system-dependent zero point)\n",
    "time.time()"
   ]
  },
  {
   "cell_type": "markdown",
   "metadata": {},
   "source": [
    "**NOTE:** this is *not* the best way to measure time, but it illustrates how the process works. \n",
    "\n",
    "Read about the [timeit](https://docs.python.org/2/library/timeit.html) module, and definitely the doccumentation of the [time](https://docs.python.org/3.5/library/time.html) module we're using."
   ]
  },
  {
   "cell_type": "code",
   "execution_count": 3,
   "metadata": {
    "collapsed": false
   },
   "outputs": [
    {
     "name": "stdout",
     "output_type": "stream",
     "text": [
      "This task took: 0.020039081573486328 seconds\n"
     ]
    }
   ],
   "source": [
    "# here's a simple way to determine how long something takes to evaluate:\n",
    "t0 = time.time()\n",
    "\n",
    "# do some random task\n",
    "x = -1\n",
    "for k in range(0,100000):\n",
    "    x = k*x\n",
    "\n",
    "t1 = time.time()\n",
    "\n",
    "duration = t1 - t0\n",
    "print('This task took: ' + str(duration) + ' seconds')"
   ]
  },
  {
   "cell_type": "code",
   "execution_count": 4,
   "metadata": {
    "collapsed": false
   },
   "outputs": [],
   "source": [
    "# here's how you might return two numbers or arrays from a function\n",
    "\n",
    "def myfunc(a):\n",
    "    out1 = a+2\n",
    "    out2 = a-2\n",
    "    return out1, out2\n"
   ]
  },
  {
   "cell_type": "code",
   "execution_count": 5,
   "metadata": {
    "collapsed": false
   },
   "outputs": [
    {
     "name": "stdout",
     "output_type": "stream",
     "text": [
      "9 5\n"
     ]
    }
   ],
   "source": [
    "x, y = myfunc(7)\n",
    "print(x,y)"
   ]
  },
  {
   "cell_type": "code",
   "execution_count": 6,
   "metadata": {
    "collapsed": false
   },
   "outputs": [
    {
     "data": {
      "text/plain": [
       "array([-4.25573445,  3.62342988,  2.96658349, -0.75229744, -3.63725065,\n",
       "        2.13356678,  2.70093156,  0.06470897, -1.44271032,  4.79832615,\n",
       "       -2.31283167,  0.2211482 , -4.85300602, -3.1954622 , -3.40634871,\n",
       "        1.26407441, -0.23816   ,  1.7926056 ,  4.8761593 , -1.7208921 ])"
      ]
     },
     "execution_count": 6,
     "metadata": {},
     "output_type": "execute_result"
    }
   ],
   "source": [
    "# an example of random numbers uniformly chosen in the range -5 to 5\n",
    "\n",
    "# note, other random number distributions exist, and are very useful (e.g. Gaussian!)\n",
    "\n",
    "N = 20\n",
    "\n",
    "rmax = 5\n",
    "rmin = -5\n",
    "\n",
    "rando_calrissian = np.random.random(N) * (rmax - rmin) + rmin\n",
    "\n",
    "rando_calrissian"
   ]
  },
  {
   "cell_type": "code",
   "execution_count": 7,
   "metadata": {
    "collapsed": false
   },
   "outputs": [],
   "source": [
    "def speedtst(N): \n",
    "    \n",
    "    r1max = 24\n",
    "    r1min = 0\n",
    "    r2max = 90\n",
    "    r2min = -90\n",
    "    rng1 = np.random.random(N) * (r1max - r1min) + r1min\n",
    "    rng2 = np.random.random(N) * (r2max - r2min) + r2min \n",
    "    \n",
    "    \n",
    "    \n",
    "    td0 = time.time()\n",
    "    x = solutions.constell_davenport(rng1,rng2)\n",
    "    td1= time.time()\n",
    "    \n",
    "    th0 = time.time()\n",
    "    #for i in range(N):\n",
    "        #y = solutions.constell_christenson(rng1[i],rng2[i])\n",
    "    th1 = time.time()\n",
    "    \n",
    "    dur_davenport = td1-td0\n",
    "    dur_holly = th1-th0\n",
    "    \n",
    "    return dur_davenport, dur_holly"
   ]
  },
  {
   "cell_type": "code",
   "execution_count": 8,
   "metadata": {
    "collapsed": false
   },
   "outputs": [
    {
     "data": {
      "text/plain": [
       "(0.5185489654541016, 0.0)"
      ]
     },
     "execution_count": 8,
     "metadata": {},
     "output_type": "execute_result"
    }
   ],
   "source": [
    "speedtst(5000)"
   ]
  },
  {
   "cell_type": "code",
   "execution_count": 9,
   "metadata": {
    "collapsed": false
   },
   "outputs": [
    {
     "name": "stdout",
     "output_type": "stream",
     "text": [
      "20\n",
      "0\n",
      "1\n"
     ]
    },
    {
     "name": "stderr",
     "output_type": "stream",
     "text": [
      "/Users/Riley/anaconda/lib/python3.5/site-packages/ipykernel/__main__.py:7: DeprecationWarning: using a non-integer number instead of an integer will result in an error in the future\n",
      "/Users/Riley/anaconda/lib/python3.5/site-packages/ipykernel/__main__.py:8: DeprecationWarning: using a non-integer number instead of an integer will result in an error in the future\n"
     ]
    },
    {
     "name": "stdout",
     "output_type": "stream",
     "text": [
      "2\n",
      "3\n",
      "4\n",
      "5\n",
      "6\n",
      "7\n",
      "8\n",
      "9\n",
      "10\n",
      "11\n",
      "12\n",
      "13\n",
      "14\n",
      "15\n",
      "16\n",
      "17\n",
      "18\n",
      "19\n",
      "[  1.42087936e-02   4.92490053e-01   2.32961297e+00   6.49537802e+00\n",
      "   1.15545299e+01   1.93357959e+01   3.17578311e+01   4.15796239e+01\n",
      "   5.73912351e+01   7.22537601e+01   9.17893112e+01   1.11856741e+02\n",
      "   1.35538547e+02   1.61117672e+02   1.83780072e+02   2.07697340e+02\n",
      "   2.42421276e+02   2.68862468e+02   3.26625711e+02   3.36959792e+02]\n"
     ]
    }
   ],
   "source": [
    "t=100000\n",
    "Nsteps = 20\n",
    "t_steps = np.floor(np.linspace(1,t,Nsteps))\n",
    "out1 = np.zeros(len(t_steps))\n",
    "out2 = np.zeros(len(t_steps))\n",
    "\n",
    "print(len(t_steps))\n",
    "\n",
    "for j in range (0,len(t_steps)):\n",
    "    print(j)\n",
    "    n1,n2 = speedtst(t_steps[j])\n",
    "    out1[j] = n1\n",
    "    out2[j] = n2\n",
    "\n",
    "print(out1)"
   ]
  },
  {
   "cell_type": "code",
   "execution_count": 14,
   "metadata": {
    "collapsed": false
   },
   "outputs": [
    {
     "data": {
      "text/plain": [
       "[<matplotlib.lines.Line2D at 0x10755a7f0>]"
      ]
     },
     "execution_count": 14,
     "metadata": {},
     "output_type": "execute_result"
    },
    {
     "data": {
      "image/png": "[encoded data removed]",
      "text/plain": [
       "<matplotlib.figure.Figure at 0x1074b0b70>"
      ]
     },
     "metadata": {},
     "output_type": "display_data"
    }
   ],
   "source": [
    "n = np.arange(1,21,1)\n",
    "plt.plot(n,out1)\n",
    "#plt.plot(n,out2)\n",
    "#plt.yscale('log')"
   ]
  },
  {
   "cell_type": "markdown",
   "metadata": {},
   "source": [
    "# Part 3: Write some unit tests\n",
    "\n",
    "**unittest**: There *is* a [built-in framework](https://docs.python.org/2.7/library/unittest.html) for formally handling unit tests. It is a little difficult to start using, and we won't use it today. There are some nicer testing suites available (e.g. [nose](https://nose.readthedocs.org/en/latest/))\n",
    "\n",
    "**Exceptions**: Python defines a bunch of [built-in exceptions](https://docs.python.org/2/library/exceptions.html) that can come up when code crashes. In general you'll try to [catch these](https://wiki.python.org/moin/HandlingExceptions) and handle them gracefully. Usually I write Try/Except statements as I find these errors\n"
   ]
  },
  {
   "cell_type": "code",
   "execution_count": null,
   "metadata": {
    "collapsed": false
   },
   "outputs": [],
   "source": [
    "def number_test(input):\n",
    "    '''\n",
    "    An example of using a Try/Except statement to catch an error.\n",
    "    You could imagine doing something more useful than just printing stuff to the screen...\n",
    "    '''\n",
    "    try:\n",
    "        val = float(input)\n",
    "        print('Yup...')\n",
    "    except ValueError:\n",
    "        print(\"Not a float!\")"
   ]
  },
  {
   "cell_type": "code",
   "execution_count": null,
   "metadata": {
    "collapsed": false
   },
   "outputs": [],
   "source": [
    "a = 'hamburger'\n",
    "b = 123.45\n",
    "\n",
    "number_test(b)"
   ]
  },
  {
   "cell_type": "code",
   "execution_count": null,
   "metadata": {
    "collapsed": true
   },
   "outputs": [],
   "source": []
  }
 ],
 "metadata": {
  "kernelspec": {
   "display_name": "Python 3",
   "language": "python",
   "name": "python3"
  },
  "language_info": {
   "codemirror_mode": {
    "name": "ipython",
    "version": 3
   },
   "file_extension": ".py",
   "mimetype": "text/x-python",
   "name": "python",
   "nbconvert_exporter": "python",
   "pygments_lexer": "ipython3",
   "version": "3.5.1"
  }
 },
 "nbformat": 4,
 "nbformat_minor": 0
}
