{
 "cells": [
  {
   "cell_type": "code",
   "execution_count": 1,
   "metadata": {
    "collapsed": true
   },
   "outputs": [],
   "source": [
    "%matplotlib inline\n",
    "import numpy as np\n",
    "import matplotlib.pyplot as plt\n",
    "import time\n",
    "# see also the \"datetime\" package\n",
    "import solutions"
   ]
  },
  {
   "cell_type": "markdown",
   "metadata": {},
   "source": [
    "# Part 2: Speed Racer!\n",
    "Let's figure out which of the solutions from last week is the fastest. \n",
    "\n",
    "To do this, we want to evaluate the runtime for a varying number of coordinates."
   ]
  },
  {
   "cell_type": "code",
   "execution_count": 2,
   "metadata": {
    "collapsed": false
   },
   "outputs": [
    {
     "data": {
      "text/plain": [
       "1461712720.709795"
      ]
     },
     "execution_count": 2,
     "metadata": {},
     "output_type": "execute_result"
    }
   ],
   "source": [
    "# This tells you the system time in seconds (from some system-dependent zero point)\n",
    "time.time()"
   ]
  },
  {
   "cell_type": "markdown",
   "metadata": {},
   "source": [
    "**NOTE:** this is *not* the best way to measure time, but it illustrates how the process works. \n",
    "\n",
    "Read about the [timeit](https://docs.python.org/2/library/timeit.html) module, and definitely the doccumentation of the [time](https://docs.python.org/3.5/library/time.html) module we're using."
   ]
  },
  {
   "cell_type": "code",
   "execution_count": 6,
   "metadata": {
    "collapsed": false
   },
   "outputs": [
    {
     "name": "stdout",
     "output_type": "stream",
     "text": [
      "This task took: 0.013350963592529297 seconds\n"
     ]
    }
   ],
   "source": [
    "# here's a simple way to determine how long something takes to evaluate:\n",
    "t0 = time.time()\n",
    "\n",
    "# do some random task\n",
    "\n",
    "x = -1\n",
    "for k in range(0,100000):\n",
    "    x = k*x\n",
    "\n",
    "t1 = time.time()\n",
    "\n",
    "duration = t1 - t0\n",
    "print('This task took: ' + str(duration) + ' seconds')"
   ]
  },
  {
   "cell_type": "code",
   "execution_count": 7,
   "metadata": {
    "collapsed": false
   },
   "outputs": [],
   "source": [
    "# here's how you might return two numbers or arrays from a function\n",
    "\n",
    "def myfunc(a):\n",
    "    out1 = a+2\n",
    "    out2 = a-2\n",
    "    return out1, out2\n"
   ]
  },
  {
   "cell_type": "code",
   "execution_count": 8,
   "metadata": {
    "collapsed": false
   },
   "outputs": [
    {
     "name": "stdout",
     "output_type": "stream",
     "text": [
      "9 5\n"
     ]
    }
   ],
   "source": [
    "x, y = myfunc(7)\n",
    "print(x,y)"
   ]
  },
  {
   "cell_type": "code",
   "execution_count": 10,
   "metadata": {
    "collapsed": false
   },
   "outputs": [
    {
     "data": {
      "text/plain": [
       "array([ 2.32161005, -0.76674685, -1.65934665,  4.03519896,  4.64025515,\n",
       "       -0.24544918,  4.88638341, -1.32652149,  3.78445772,  2.84475865,\n",
       "       -4.03472162,  1.42812367, -2.3970574 ,  2.38200266,  2.79541087,\n",
       "       -0.1980926 , -0.5385668 , -2.67934267,  4.47944027,  2.09545681])"
      ]
     },
     "execution_count": 10,
     "metadata": {},
     "output_type": "execute_result"
    }
   ],
   "source": [
    "# an example of random numbers uniformly chosen in the range -5 to 5\n",
    "\n",
    "# note, other random number distributions exist, and are very useful (e.g. Gaussian!)\n",
    "\n",
    "N = 20\n",
    "\n",
    "rmax = 5\n",
    "rmin = -5\n",
    "\n",
    "rando_calrissian = np.random.random(N) * (rmax - rmin) + rmin\n",
    "\n",
    "rando_calrissian"
   ]
  },
  {
   "cell_type": "markdown",
   "metadata": {},
   "source": [
    "# Part 3: Write some unit tests\n",
    "\n",
    "**unittest**: There *is* a [built-in framework](https://docs.python.org/2.7/library/unittest.html) for formally handling unit tests. It is a little difficult to start using, and we won't use it today. There are some nicer testing suites available (e.g. [nose](https://nose.readthedocs.org/en/latest/))\n",
    "\n",
    "**Exceptions**: Python defines a bunch of [built-in exceptions](https://docs.python.org/2/library/exceptions.html) that can come up when code crashes. In general you'll try to [catch these](https://wiki.python.org/moin/HandlingExceptions) and handle them gracefully. Usually I write Try/Except statements as I find these errors\n"
   ]
  },
  {
   "cell_type": "code",
   "execution_count": 11,
   "metadata": {
    "collapsed": false
   },
   "outputs": [],
   "source": [
    "def number_test(input):\n",
    "    '''\n",
    "    An example of using a Try/Except statement to catch an error.\n",
    "    You could imagine doing something more useful than just printing stuff to the screen...\n",
    "    '''\n",
    "    try:\n",
    "        val = float(input)\n",
    "        print('Yup...')\n",
    "    except ValueError:\n",
    "        print(\"Not a float!\")"
   ]
  },
  {
   "cell_type": "code",
   "execution_count": 13,
   "metadata": {
    "collapsed": false
   },
   "outputs": [
    {
     "name": "stdout",
     "output_type": "stream",
     "text": [
      "Yup...\n"
     ]
    }
   ],
   "source": [
    "a = 'hamburger'\n",
    "b = 123.45\n",
    "\n",
    "number_test(b)"
   ]
  },
  {
   "cell_type": "code",
   "execution_count": 15,
   "metadata": {
    "collapsed": true
   },
   "outputs": [],
   "source": [
    "def constell_christenson(ra,dec):\n",
    "    '''\n",
    "    This is a function to determine the constellation in which an object is located from its ra and dec\n",
    "    Written by @hmchristenson \n",
    "    \n",
    "    Parameters\n",
    "    -------\n",
    "    ra: float\n",
    "        Right ascension\n",
    "    dec: float\n",
    "        Declination\n",
    "        \n",
    "    Returns\n",
    "    -------\n",
    "    output: string\n",
    "        Name of the constellation in which the object is located\n",
    "    '''\n",
    "    RAl, RAu, Decl, = np.loadtxt('data/data.txt', delimiter=',', usecols=(0,1,2), unpack=True)\n",
    "    names = np.loadtxt('data/data.txt', delimiter=',', usecols=(3,), unpack=True, dtype='str')\n",
    "    \n",
    "    count = 0\n",
    "\n",
    "    while(Decl[count] > dec):\n",
    "        count = count + 1\n",
    "    dec_low = Decl[count]\n",
    "    \n",
    "    while(RAu[count] <= ra):\n",
    "        count = count + 1\n",
    "    ra_up = RAu[count]\n",
    "\n",
    "    while(RAl[count] > ra or RAu[count] < ra):\n",
    "        count = count + 1 \n",
    "    ra_low = RAl[count]\n",
    "       \n",
    "    output = names[count]\n",
    "    \n",
    "    return output"
   ]
  },
  {
   "cell_type": "code",
   "execution_count": 45,
   "metadata": {
    "collapsed": false
   },
   "outputs": [
    {
     "data": {
      "image/png": "[encoded data removed]",
      "text/plain": [
       "<matplotlib.figure.Figure at 0x10e0c9518>"
      ]
     },
     "metadata": {},
     "output_type": "display_data"
    }
   ],
   "source": [
    "def constell_runtime_test (N):\n",
    "    RaArray = np.random.random(N)*24\n",
    "    DecArray = np.random.random(N)*180 - 90\n",
    "    \n",
    "    t = np.zeros(2*N)\n",
    "    \n",
    "    for i in range(N):\n",
    "        t[-i] = time.time()\n",
    "        for j in range(i):\n",
    "            \n",
    "            constell_christenson(RaArray[j], DecArray[j])\n",
    "            \n",
    "        t[i] = time.time()\n",
    "    \n",
    "    T = np.zeros(2*N)\n",
    "    \n",
    "    for i in range(N):\n",
    "        T[i] = t[i] - t[-i]\n",
    "    \n",
    "    i = range(N)\n",
    "    \n",
    "    plt.plot(i, T[i])\n",
    "\n",
    "constell_runtime_test(100)"
   ]
  },
  {
   "cell_type": "code",
   "execution_count": null,
   "metadata": {
    "collapsed": true
   },
   "outputs": [],
   "source": []
  }
 ],
 "metadata": {
  "kernelspec": {
   "display_name": "Python 3",
   "language": "python",
   "name": "python3"
  },
  "language_info": {
   "codemirror_mode": {
    "name": "ipython",
    "version": 3
   },
   "file_extension": ".py",
   "mimetype": "text/x-python",
   "name": "python",
   "nbconvert_exporter": "python",
   "pygments_lexer": "ipython3",
   "version": "3.5.1"
  }
 },
 "nbformat": 4,
 "nbformat_minor": 0
}
