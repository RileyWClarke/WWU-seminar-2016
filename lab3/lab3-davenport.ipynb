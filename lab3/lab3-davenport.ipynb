{
 "cells": [
  {
   "cell_type": "code",
   "execution_count": 4,
   "metadata": {
    "collapsed": true
   },
   "outputs": [],
   "source": [
    "%matplotlib inline\n",
    "import numpy as np\n",
    "import matplotlib.pyplot as plt\n",
    "import time\n",
    "# see also the \"datetime\" package\n",
    "import solutions"
   ]
  },
  {
   "cell_type": "markdown",
   "metadata": {},
   "source": [
    "# Part 2: Speed Racer!\n",
    "Let's figure out which of the solutions from last week is the fastest. \n",
    "\n",
    "To do this, we want to evaluate the runtime for a varying number of coordinates."
   ]
  },
  {
   "cell_type": "code",
   "execution_count": null,
   "metadata": {
    "collapsed": false
   },
   "outputs": [],
   "source": [
    "# This tells you the system time in seconds (from some system-dependent zero point)\n",
    "time.time()"
   ]
  },
  {
   "cell_type": "markdown",
   "metadata": {},
   "source": [
    "**NOTE:** this is *not* the best way to measure time, but it illustrates how the process works. \n",
    "\n",
    "Read about the [timeit](https://docs.python.org/2/library/timeit.html) module, and definitely the doccumentation of the [time](https://docs.python.org/3.5/library/time.html) module we're using."
   ]
  },
  {
   "cell_type": "code",
   "execution_count": null,
   "metadata": {
    "collapsed": false
   },
   "outputs": [],
   "source": [
    "# here's a simple way to determine how long something takes to evaluate:\n",
    "t0 = time.time()\n",
    "\n",
    "# do some random task\n",
    "x = -1\n",
    "for k in range(0,100000):\n",
    "    x = k*x\n",
    "\n",
    "t1 = time.time()\n",
    "\n",
    "duration = t1 - t0\n",
    "print('This task took: ' + str(duration) + ' seconds')"
   ]
  },
  {
   "cell_type": "code",
   "execution_count": 5,
   "metadata": {
    "collapsed": false
   },
   "outputs": [],
   "source": [
    "def constell_time(N):\n",
    "    ra = np.random.random(N) * 24.\n",
    "    dec = np.random.random(N) * 180. - 90.\n",
    "    \n",
    "    t0 = time.time()\n",
    "    tmp = solutions.constell_davenport(ra, dec)\n",
    "    \n",
    "    t1 = time.time()\n",
    "    for k in range(N):\n",
    "        tmp = solutions.constell_christenson(ra[k], dec[k])\n",
    "    \n",
    "    t2 = time.time()\n",
    "    \n",
    "    out1 = t1-t0\n",
    "    out2 = t2-t1\n",
    "    \n",
    "    return out1, out2\n"
   ]
  },
  {
   "cell_type": "code",
   "execution_count": 21,
   "metadata": {
    "collapsed": false
   },
   "outputs": [],
   "source": [
    "N = np.array([1,2,3,4,5,6,7,10,20,30,100,200,300])\n",
    "\n",
    "x1 = np.zeros(len(N))\n",
    "x2 = np.zeros(len(N))\n",
    "\n",
    "for i in range(len(N)):\n",
    "    v1,v2 = constell_time(N[i])\n",
    "    x1[i] = v1\n",
    "    x2[i] = v2\n",
    "\n"
   ]
  },
  {
   "cell_type": "code",
   "execution_count": 22,
   "metadata": {
    "collapsed": false
   },
   "outputs": [
    {
     "data": {
      "text/plain": [
       "<matplotlib.text.Text at 0x105c93bd0>"
      ]
     },
     "execution_count": 22,
     "metadata": {},
     "output_type": "execute_result"
    },
    {
     "data": {
      "image/png": "[encoded data removed]",
      "text/plain": [
       "<matplotlib.figure.Figure at 0x106eb3b10>"
      ]
     },
     "metadata": {},
     "output_type": "display_data"
    }
   ],
   "source": [
    "plt.plot(N, x1, 'ro-')\n",
    "# plt.plot(N, x2)\n",
    "plt.xscale('log')\n",
    "plt.yscale('log')\n",
    "plt.xlabel('# samples')\n",
    "plt.ylabel('Runtime (s)')"
   ]
  },
  {
   "cell_type": "markdown",
   "metadata": {},
   "source": [
    "# Part 3: Write some unit tests\n",
    "\n",
    "**unittest**: There *is* a [built-in framework](https://docs.python.org/2.7/library/unittest.html) for formally handling unit tests. It is a little difficult to start using, and we won't use it today. There are some nicer testing suites available (e.g. [nose](https://nose.readthedocs.org/en/latest/))\n",
    "\n",
    "**Exceptions**: Python defines a bunch of [built-in exceptions](https://docs.python.org/2/library/exceptions.html) that can come up when code crashes. In general you'll try to [catch these](https://wiki.python.org/moin/HandlingExceptions) and handle them gracefully. Usually I write Try/Except statements as I find these errors\n"
   ]
  },
  {
   "cell_type": "code",
   "execution_count": null,
   "metadata": {
    "collapsed": false
   },
   "outputs": [],
   "source": [
    "def number_test(input):\n",
    "    '''\n",
    "    An example of using a Try/Except statement to catch an error.\n",
    "    You could imagine doing something more useful than just printing stuff to the screen...\n",
    "    '''\n",
    "    try:\n",
    "        val = float(input)\n",
    "        print('Yup...')\n",
    "    except ValueError:\n",
    "        print(\"Not a float!\")"
   ]
  },
  {
   "cell_type": "code",
   "execution_count": null,
   "metadata": {
    "collapsed": false
   },
   "outputs": [],
   "source": [
    "a = 'hamburger'\n",
    "b = 123.45\n",
    "\n",
    "number_test(b)"
   ]
  },
  {
   "cell_type": "code",
   "execution_count": null,
   "metadata": {
    "collapsed": true
   },
   "outputs": [],
   "source": []
  }
 ],
 "metadata": {
  "kernelspec": {
   "display_name": "Python 2",
   "language": "python",
   "name": "python2"
  },
  "language_info": {
   "codemirror_mode": {
    "name": "ipython",
    "version": 2
   },
   "file_extension": ".py",
   "mimetype": "text/x-python",
   "name": "python",
   "nbconvert_exporter": "python",
   "pygments_lexer": "ipython2",
   "version": "2.7.10"
  }
 },
 "nbformat": 4,
 "nbformat_minor": 0
}
