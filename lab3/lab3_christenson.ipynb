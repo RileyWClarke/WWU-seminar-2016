{
 "cells": [
  {
   "cell_type": "code",
   "execution_count": 21,
   "metadata": {
    "collapsed": false
   },
   "outputs": [],
   "source": [
    "%matplotlib inline\n",
    "import numpy as np\n",
    "import matplotlib.pyplot as plt\n",
    "import time\n",
    "# see also the \"datetime\" package\n",
    "import solutions"
   ]
  },
  {
   "cell_type": "markdown",
   "metadata": {},
   "source": [
    "# Part 2: Speed Racer!\n",
    "Let's figure out which of the solutions from last week is the fastest. \n",
    "\n",
    "To do this, we want to evaluate the runtime for a varying number of coordinates."
   ]
  },
  {
   "cell_type": "code",
   "execution_count": 7,
   "metadata": {
    "collapsed": false
   },
   "outputs": [
    {
     "data": {
      "text/plain": [
       "1461712130.092395"
      ]
     },
     "execution_count": 7,
     "metadata": {},
     "output_type": "execute_result"
    }
   ],
   "source": [
    "# This tells you the system time in seconds (from some system-dependent zero point)\n",
    "time.time()"
   ]
  },
  {
   "cell_type": "markdown",
   "metadata": {},
   "source": [
    "**NOTE:** this is *not* the best way to measure time, but it illustrates how the process works. \n",
    "\n",
    "Read about the [timeit](https://docs.python.org/2/library/timeit.html) module, and definitely the doccumentation of the [time](https://docs.python.org/3.5/library/time.html) module we're using."
   ]
  },
  {
   "cell_type": "code",
   "execution_count": 8,
   "metadata": {
    "collapsed": false
   },
   "outputs": [
    {
     "name": "stdout",
     "output_type": "stream",
     "text": [
      "This task took: 0.014384031295776367 seconds\n"
     ]
    }
   ],
   "source": [
    "# here's a simple way to determine how long something takes to evaluate:\n",
    "t0 = time.time()\n",
    "\n",
    "# do some random task\n",
    "x = -1\n",
    "for k in range(0,100000):\n",
    "    x = k*x\n",
    "\n",
    "t1 = time.time()\n",
    "\n",
    "duration = t1 - t0\n",
    "print('This task took: ' + str(duration) + ' seconds')"
   ]
  },
  {
   "cell_type": "code",
   "execution_count": 9,
   "metadata": {
    "collapsed": false
   },
   "outputs": [],
   "source": [
    "# here's how you might return two numbers or arrays from a function\n",
    "\n",
    "def myfunc(a):\n",
    "    out1 = a+2\n",
    "    out2 = a-2\n",
    "    return out1, out2\n"
   ]
  },
  {
   "cell_type": "code",
   "execution_count": 10,
   "metadata": {
    "collapsed": false
   },
   "outputs": [
    {
     "name": "stdout",
     "output_type": "stream",
     "text": [
      "9 5\n"
     ]
    }
   ],
   "source": [
    "x, y = myfunc(7)\n",
    "print(x,y)"
   ]
  },
  {
   "cell_type": "code",
   "execution_count": 11,
   "metadata": {
    "collapsed": false
   },
   "outputs": [
    {
     "data": {
      "text/plain": [
       "array([-4.6717978 ,  0.85765872, -0.41153541,  1.97009536, -0.63540008,\n",
       "        1.89880121,  2.78257972,  1.09874222,  1.84474102, -3.70300295,\n",
       "       -4.64436713,  0.0343075 , -1.53396123,  4.68325373,  1.38040073,\n",
       "       -3.36449135,  2.16266829, -1.48924603, -4.8908767 , -1.14418342])"
      ]
     },
     "execution_count": 11,
     "metadata": {},
     "output_type": "execute_result"
    }
   ],
   "source": [
    "# an example of random numbers uniformly chosen in the range -5 to 5\n",
    "\n",
    "# note, other random number distributions exist, and are very useful (e.g. Gaussian!)\n",
    "\n",
    "N = 20\n",
    "\n",
    "rmax = 5\n",
    "rmin = -5\n",
    "\n",
    "rando_calrissian = np.random.random(N) * (rmax - rmin) + rmin\n",
    "\n",
    "rando_calrissian"
   ]
  },
  {
   "cell_type": "code",
   "execution_count": 89,
   "metadata": {
    "collapsed": false
   },
   "outputs": [],
   "source": [
    "def timefunc(N):\n",
    "    '''\n",
    "    This is a function to determine the time it takes the two constellation functions to run by testing N coordinates\n",
    "    \n",
    "    Parameters\n",
    "    -------\n",
    "    N: int\n",
    "        Tthe number of coordinates to be tested\n",
    "        \n",
    "    Returns\n",
    "    -------\n",
    "    time1: float\n",
    "        Time it takes the Davenport algorithm to run\n",
    "    time2: float\n",
    "        Time it takes the Christenson algorithm to run\n",
    "    '''\n",
    "    ra_min = 0\n",
    "    ra_max = 24\n",
    "    dec_min = -90\n",
    "    dec_max = 90\n",
    "    \n",
    "    ra = np.random.random(N)*(ra_max-ra_min) + ra_min\n",
    "    dec = np.random.random(N)*(dec_max-dec_min) - dec_min\n",
    "    \n",
    "    #print(ra)\n",
    "    #print(dec)\n",
    "    \n",
    "    t_0a = time.time()\n",
    "        \n",
    "    for i in range(0,N):\n",
    "        solutions.constell_christenson(ra[i],dec[i])\n",
    "        \n",
    "    time1 = time.time() - t_0a\n",
    "    \n",
    "    t_0b=time.time()\n",
    "    \n",
    "    solutions.constell_davenport(ra,dec)\n",
    "    \n",
    "    time2 = time.time() - t_0b\n",
    "    \n",
    "    return time1,time2"
   ]
  },
  {
   "cell_type": "code",
   "execution_count": 90,
   "metadata": {
    "collapsed": false
   },
   "outputs": [
    {
     "data": {
      "text/plain": [
       "(0.007400989532470703, 0.0072209835052490234)"
      ]
     },
     "execution_count": 90,
     "metadata": {},
     "output_type": "execute_result"
    }
   ],
   "source": [
    "timefunc(1)"
   ]
  },
  {
   "cell_type": "code",
   "execution_count": 99,
   "metadata": {
    "collapsed": false
   },
   "outputs": [
    {
     "data": {
      "image/png": "[encoded data removed]",
      "text/plain": [
       "<matplotlib.figure.Figure at 0x1087bfba8>"
      ]
     },
     "metadata": {},
     "output_type": "display_data"
    }
   ],
   "source": [
    "n = np.arange(1,100,1)\n",
    "christenson_time = np.zeros([np.size(n)])\n",
    "davenport_time = np.zeros([np.size(n)])\n",
    "\n",
    "\n",
    "for i in range(0,np.size(n)):\n",
    "    christenson_time[i],davenport_time[i] = timefunc(n[i])\n",
    "    \n",
    "plt.figure()\n",
    "plt.plot(n,christenson_time,c='g',label='christenson')\n",
    "plt.plot(n,davenport_time,c='b',label='davenport')\n",
    "plt.xlabel(\"coordinates tested\")\n",
    "plt.ylabel('time (s)')\n",
    "plt.yscale('log')\n",
    "plt.legend(loc='best')\n",
    "plt.show()\n"
   ]
  },
  {
   "cell_type": "markdown",
   "metadata": {},
   "source": [
    "# Part 3: Write some unit tests\n",
    "\n",
    "**unittest**: There *is* a [built-in framework](https://docs.python.org/2.7/library/unittest.html) for formally handling unit tests. It is a little difficult to start using, and we won't use it today. There are some nicer testing suites available (e.g. [nose](https://nose.readthedocs.org/en/latest/))\n",
    "\n",
    "**Exceptions**: Python defines a bunch of [built-in exceptions](https://docs.python.org/2/library/exceptions.html) that can come up when code crashes. In general you'll try to [catch these](https://wiki.python.org/moin/HandlingExceptions) and handle them gracefully. Usually I write Try/Except statements as I find these errors\n"
   ]
  },
  {
   "cell_type": "code",
   "execution_count": 133,
   "metadata": {
    "collapsed": false
   },
   "outputs": [],
   "source": [
    "def testfunc(N):\n",
    "    '''\n",
    "    This is a function to check  if the outputs for each algorithm match.\n",
    "    \n",
    "    Parameters\n",
    "    -------\n",
    "    N: int\n",
    "        Tthe number of coordinates to be tested\n",
    "        \n",
    "    Returns\n",
    "    -------\n",
    "    frac: float\n",
    "        Fraction of values that agree between the two algorithms\n",
    "    \n",
    "    '''\n",
    "    ra_min = 0\n",
    "    ra_max = 24\n",
    "    dec_min = -90\n",
    "    dec_max = 90\n",
    "    \n",
    "    ra = np.random.random(N)*(ra_max-ra_min) + ra_min\n",
    "    dec = np.random.random(N)*(dec_max-dec_min) - dec_min\n",
    "    \n",
    "    d_soln=solutions.constell_davenport(ra,dec)\n",
    "    \n",
    "    count=0\n",
    "    bad = 0\n",
    "    \n",
    "    for i in range(0,N):\n",
    "        if d_soln[i] == solutions.constell_christenson(ra[i],dec[i]):\n",
    "            count = count+1\n",
    "        if d_soln[i] != solutions.constell_christenson(ra[i],dec[i]):\n",
    "            bad=bad+1\n",
    "        \n",
    "    print(count)\n",
    "    print(bad)\n",
    "    \n",
    "    frac = count/(count+bad)\n",
    "    \n",
    "    return frac\n",
    "        \n",
    "    "
   ]
  },
  {
   "cell_type": "code",
   "execution_count": 137,
   "metadata": {
    "collapsed": false
   },
   "outputs": [
    {
     "name": "stdout",
     "output_type": "stream",
     "text": [
      "100\n",
      "0\n"
     ]
    },
    {
     "data": {
      "text/plain": [
       "1.0"
      ]
     },
     "execution_count": 137,
     "metadata": {},
     "output_type": "execute_result"
    }
   ],
   "source": [
    "testfunc(100)"
   ]
  },
  {
   "cell_type": "markdown",
   "metadata": {},
   "source": [
    "# Modifications to code- error traps"
   ]
  },
  {
   "cell_type": "markdown",
   "metadata": {},
   "source": [
    "My code fails vocally for strings"
   ]
  },
  {
   "cell_type": "code",
   "execution_count": 166,
   "metadata": {
    "collapsed": false
   },
   "outputs": [],
   "source": [
    "def constell_christenson(ra,dec):\n",
    "    '''\n",
    "    This is a function to determine the constellation in which an object is located from its ra and dec\n",
    "    Written by @hmchristenson \n",
    "    \n",
    "    Parameters\n",
    "    -------\n",
    "    ra: float\n",
    "        Right ascension\n",
    "    dec: float\n",
    "        Declination\n",
    "        \n",
    "    Returns\n",
    "    -------\n",
    "    output: string\n",
    "        Name of the constellation in which the object is located\n",
    "    '''\n",
    "    \n",
    "    try:\n",
    "        dec = float(dec)\n",
    "    except ValueError:\n",
    "        print(\"Declination is not a float!\")\n",
    "        return\n",
    "    \n",
    "    try:\n",
    "        ra = float(ra)\n",
    "    except ValueError:\n",
    "        print(\"Right ascension is not a float!\")\n",
    "        return\n",
    "        \n",
    "     \n",
    "    if ra < 0:\n",
    "        print(\"Right ascension must be greater than zero!\")\n",
    "        return\n",
    "    \n",
    "    RAl, RAu, Decl, = np.loadtxt('data/data.txt', delimiter=',', usecols=(0,1,2), unpack=True)\n",
    "    names = np.loadtxt('data/data.txt', delimiter=',', usecols=(3,), unpack=True, dtype='str')\n",
    "    \n",
    "    count = 0\n",
    "\n",
    "    while(Decl[count] > dec):\n",
    "        count = count + 1\n",
    "    dec_low = Decl[count]\n",
    "    \n",
    "    while(RAu[count] <= ra):\n",
    "        count = count + 1\n",
    "    ra_up = RAu[count]\n",
    "\n",
    "    while(RAl[count] > ra or RAu[count] < ra):\n",
    "        count = count + 1 \n",
    "    ra_low = RAl[count]\n",
    "       \n",
    "    output = names[count]\n",
    "    \n",
    "    return output"
   ]
  },
  {
   "cell_type": "code",
   "execution_count": 168,
   "metadata": {
    "collapsed": false
   },
   "outputs": [
    {
     "name": "stdout",
     "output_type": "stream",
     "text": [
      "Declination is not a float!\n"
     ]
    }
   ],
   "source": [
    "constell_christenson(-10,'d')"
   ]
  },
  {
   "cell_type": "code",
   "execution_count": null,
   "metadata": {
    "collapsed": true
   },
   "outputs": [],
   "source": []
  },
  {
   "cell_type": "code",
   "execution_count": null,
   "metadata": {
    "collapsed": true
   },
   "outputs": [],
   "source": []
  }
 ],
 "metadata": {
  "kernelspec": {
   "display_name": "Python 3",
   "language": "python",
   "name": "python3"
  },
  "language_info": {
   "codemirror_mode": {
    "name": "ipython",
    "version": 3
   },
   "file_extension": ".py",
   "mimetype": "text/x-python",
   "name": "python",
   "nbconvert_exporter": "python",
   "pygments_lexer": "ipython3",
   "version": "3.4.4"
  }
 },
 "nbformat": 4,
 "nbformat_minor": 0
}
