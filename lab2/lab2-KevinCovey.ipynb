{
 "cells": [
  {
   "cell_type": "markdown",
   "metadata": {},
   "source": [
    "# Algorithms 1: Do Something!\n",
    "\n",
    "Today's exercise is to make a piece of code that completes a useful task, but write it as generalized as possible to be reusable for other people (including Future You)!"
   ]
  },
  {
   "cell_type": "code",
   "execution_count": 2,
   "metadata": {
    "collapsed": false
   },
   "outputs": [],
   "source": [
    "%matplotlib inline\n",
    "import numpy as np\n",
    "import matplotlib.pyplot as plt\n",
    "import Covey_func as Covey_func\n",
    "from Covey_func import K2F"
   ]
  },
  {
   "cell_type": "markdown",
   "metadata": {},
   "source": [
    "## Documentation\n",
    "\n",
    "A \"Docstring\" is required for every function you write. Otherwise you will forget what it does and how it does it!\n",
    "\n",
    "One very common docstring format is the \"[NumPy/SciPy](https://github.com/numpy/numpy/blob/master/doc/HOWTO_DOCUMENT.rst.txt)\" standard:\n",
    "\n",
    "Below is a working function with a valid docstring as an example:"
   ]
  },
  {
   "cell_type": "code",
   "execution_count": 3,
   "metadata": {
    "collapsed": true
   },
   "outputs": [],
   "source": [
    "def MyFunc(arg1, arg2, kwarg1=5.0):\n",
    "    '''\n",
    "    This is a function to calculate the number of quatloos required\n",
    "    to reverse the polarity of a neutron flow.\n",
    "    \n",
    "    Parameters\n",
    "    ----------\n",
    "    arg1 : float\n",
    "        How many bleeps per blorp\n",
    "    arg2 : float\n",
    "        The foo/bar parameter\n",
    "    kwarg1 : float, optional\n",
    "        The quatloo to gold-pressed-latinum exchange rate\n",
    "    Returns\n",
    "    -------\n",
    "    float\n",
    "        A specific resultification index\n",
    "    '''\n",
    "    \n",
    "    if kwarg1 > 5.0:\n",
    "        print(\"wow, that's a lot of quatloos...\")\n",
    "\n",
    "    # this is the classical formula we learn in grade school\n",
    "    output = arg1 + arg2 * kwarg1\n",
    "        \n",
    "    return output"
   ]
  },
  {
   "cell_type": "code",
   "execution_count": 4,
   "metadata": {
    "collapsed": false
   },
   "outputs": [
    {
     "name": "stdout",
     "output_type": "stream",
     "text": [
      "wow, that's a lot of quatloos...\n"
     ]
    }
   ],
   "source": [
    "# how to use the function\n",
    "x = MyFunc(7,8, kwarg1=9.2)"
   ]
  },
  {
   "cell_type": "code",
   "execution_count": 5,
   "metadata": {
    "collapsed": false
   },
   "outputs": [
    {
     "name": "stdout",
     "output_type": "stream",
     "text": [
      "80.6\n"
     ]
    }
   ],
   "source": [
    "# Check out the function's result\n",
    "print(x)"
   ]
  },
  {
   "cell_type": "code",
   "execution_count": 6,
   "metadata": {
    "collapsed": false
   },
   "outputs": [],
   "source": [
    "#convert Kelvin to Fahrenheit\n",
    "def Kelvin2Fahrenheit(kelvinTemp):\n",
    "    '''\n",
    "    This function converts a temperature from Kelvin to Fahrenheit. \n",
    "    \n",
    "    Parameters\n",
    "    ----------\n",
    "    kelvinTemp : float\n",
    "        temperature in degrees Kelvin\n",
    "        \n",
    "    Returns\n",
    "    -------\n",
    "    Fahrenheit : float\n",
    "        the temperature, after conversion into degrees F. \n",
    "    '''\n",
    "        \n",
    "    if kelvinTemp < 0:\n",
    "        print('unphysical temperature, buster.')\n",
    "        return None\n",
    "    else:\n",
    "        fahrenheitTemp = kelvinTemp * (9/5) - 459.67\n",
    "        return fahrenheitTemp"
   ]
  },
  {
   "cell_type": "code",
   "execution_count": 19,
   "metadata": {
    "collapsed": false
   },
   "outputs": [
    {
     "name": "stdout",
     "output_type": "stream",
     "text": [
      "unphysical temperature, buster.\n",
      "None\n"
     ]
    }
   ],
   "source": [
    "#test that the function works correctly\n",
    "input = 300\n",
    "fahrenheit = Kelvin2Fahrenheit(-300)\n",
    "print(fahrenheit)"
   ]
  },
  {
   "cell_type": "markdown",
   "metadata": {},
   "source": [
    "Here's the goal:\n",
    "\n",
    "**Which constellation is a given point in?**\n",
    "\n",
    "This is the detailed constellation boundary lines data:\n",
    "http://vizier.cfa.harvard.edu/viz-bin/Cat?cat=VI%2F49\n",
    "\n",
    "You could use this data and do the full \"Ray Casting\" approach, or even cheat using matpltlib functions!\n",
    "http://stackoverflow.com/a/23453678\n",
    "\n",
    "\n",
    "A simplified approach from [Roman 1987](http://cdsads.u-strasbg.fr/abs/1987PASP...99..695R):\n",
    "http://vizier.cfa.harvard.edu/viz-bin/Cat?VI/42#sRM2.1"
   ]
  },
  {
   "cell_type": "code",
   "execution_count": 76,
   "metadata": {
    "collapsed": false,
    "scrolled": false
   },
   "outputs": [],
   "source": [
    "# This is a sloppy way to read in the floats for the coordinates, and then the strings for the constellation names.\n",
    "RAl, RAu, Decl = np.loadtxt('data/data.txt', delimiter=',', usecols=(0,1,2), unpack=True)\n",
    "names = np.loadtxt('data/data.txt', delimiter=',', usecols=(3,), unpack=True, dtype='str')"
   ]
  },
  {
   "cell_type": "code",
   "execution_count": 77,
   "metadata": {
    "collapsed": false
   },
   "outputs": [],
   "source": [
    "#print(RAu, RAl, Decl)"
   ]
  },
  {
   "cell_type": "code",
   "execution_count": 78,
   "metadata": {
    "collapsed": false
   },
   "outputs": [],
   "source": [
    "def FindConstellation(RA_In, Dec_In, ConRA_Up, ConRA_Low, ConDec_Low, ConNames):\n",
    "    '''\n",
    "    This function uses the algorithm developed by Roman (1987) to determine what \n",
    "    constellation a given input RA & Dec lie within\n",
    "    \n",
    "    Parameters\n",
    "    ----------\n",
    "    RA_In : float\n",
    "        Right Ascension (in Hours) that we want the constellation name for\n",
    "    Dec_In : float\n",
    "        Declination (in degrees) that we want the constellation name for\n",
    "\n",
    "    ConRA_Up : float\n",
    "        Array of Upper RA boundary of constellations, from original Roman data file (and ordered in the same way).\n",
    "    ConRA_Low : float\n",
    "        Array of Lower RA boundary of constellations, from original Roman data file (and ordered in the same way).\n",
    "    ConDec_Low : float\n",
    "        Array of Lower Declination boundary of constellations, from original Roman data file (and ordered in the same way).\n",
    "    ConNames : String\n",
    "        Array of String names, from original Roman data file (and ordered in the same way).\n",
    "    \n",
    "    Returns\n",
    "    -------\n",
    "    float\n",
    "        A specific resultification index\n",
    "    '''\n",
    "    \n",
    "    #Hack this by creating an upper limit array for declinations\n",
    "    ConDec_Up_short = [90.] \n",
    "    Dec_length = np.size(ConDec_Low)\n",
    "    ConDec_Up = np.append(ConDec_Up_short, ConDec_Low[0:Dec_length-1]) #, ConDec_Low]\n",
    "#    ConDec_Up = ConDec_Up_long[0:np.size(ConDec_Up_long-1)]\n",
    "#    print(ConDec_Up)\n",
    "    Constellation = np.where((ConRA_Up > RA_In) & (ConRA_Low < RA_In) & (ConDec_Low < Dec_In) & (ConDec_Up > Dec_In) )\n",
    "#    i = 0\n",
    "#    while i < np.size(ConDec_Low):\n",
    "\n",
    "#        while (ConDec_Low[i] < Dec_In):\n",
    "#            if (ConRA_Up[i] < RA_In):\n",
    "#                i = i+1\n",
    "#            else if (ConRA_Low[i] < RA_In):\n",
    "#                i = i+1\n",
    "#            if (ConRA_Up[i] > RA_In):\n",
    "#                        print(ConNames[i])\n",
    "#            print(i, ConRA_ConNames[i])\n",
    "#        i = i+1\n",
    "        \n",
    "    print(Constellation)\n",
    "#    print(ConNames[Constellation])"
   ]
  },
  {
   "cell_type": "code",
   "execution_count": 79,
   "metadata": {
    "collapsed": false
   },
   "outputs": [
    {
     "name": "stdout",
     "output_type": "stream",
     "text": [
      "(array([], dtype=int64),)\n"
     ]
    }
   ],
   "source": [
    "FindConstellation(14.78, -79.03, RAu, RAl, Decl, names)"
   ]
  },
  {
   "cell_type": "code",
   "execution_count": null,
   "metadata": {
    "collapsed": true
   },
   "outputs": [],
   "source": []
  },
  {
   "cell_type": "code",
   "execution_count": null,
   "metadata": {
    "collapsed": true
   },
   "outputs": [],
   "source": []
  }
 ],
 "metadata": {
  "kernelspec": {
   "display_name": "Python 3",
   "language": "python",
   "name": "python3"
  },
  "language_info": {
   "codemirror_mode": {
    "name": "ipython",
    "version": 3
   },
   "file_extension": ".py",
   "mimetype": "text/x-python",
   "name": "python",
   "nbconvert_exporter": "python",
   "pygments_lexer": "ipython3",
   "version": "3.5.1"
  }
 },
 "nbformat": 4,
 "nbformat_minor": 0
}
