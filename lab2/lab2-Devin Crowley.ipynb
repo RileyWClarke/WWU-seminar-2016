{
 "cells": [
  {
   "cell_type": "markdown",
   "metadata": {},
   "source": [
    "# Algorithms 1: Do Something!\n",
    "\n",
    "Today's exercise is to make a piece of code that completes a useful task, but write it as generalized as possible to be reusable for other people (including Future You)!"
   ]
  },
  {
   "cell_type": "code",
   "execution_count": 1,
   "metadata": {
    "collapsed": false
   },
   "outputs": [
    {
     "name": "stderr",
     "output_type": "stream",
     "text": [
      "/Users/crowled/anaconda/lib/python3.5/site-packages/matplotlib/font_manager.py:273: UserWarning: Matplotlib is building the font cache using fc-list. This may take a moment.\n",
      "  warnings.warn('Matplotlib is building the font cache using fc-list. This may take a moment.')\n",
      "/Users/crowled/anaconda/lib/python3.5/site-packages/matplotlib/font_manager.py:273: UserWarning: Matplotlib is building the font cache using fc-list. This may take a moment.\n",
      "  warnings.warn('Matplotlib is building the font cache using fc-list. This may take a moment.')\n"
     ]
    }
   ],
   "source": [
    "%matplotlib inline\n",
    "import numpy as np\n",
    "import matplotlib.pyplot as plt"
   ]
  },
  {
   "cell_type": "markdown",
   "metadata": {},
   "source": [
    "## Documentation\n",
    "\n",
    "A \"Docstring\" is required for every function you write. Otherwise you will forget what it does and how it does it!\n",
    "\n",
    "One very common docstring format is the \"[NumPy/SciPy](https://github.com/numpy/numpy/blob/master/doc/HOWTO_DOCUMENT.rst.txt)\" standard:\n",
    "\n",
    "Below is a working function with a valid docstring as an example:"
   ]
  },
  {
   "cell_type": "code",
   "execution_count": 3,
   "metadata": {
    "collapsed": true
   },
   "outputs": [],
   "source": [
    "def K2F(kTemp):\n",
    "    '''\n",
    "    This is a function to calculate the number of quatloos required\n",
    "    to reverse the polarity of a neutron flow.\n",
    "    \n",
    "    Parameters\n",
    "    ----------\n",
    "   kTemp:\n",
    "   \n",
    "   argument temperature in degrees Kelvin\n",
    "    -------\n",
    "    float\n",
    "        A specific resultification index\n",
    "    '''\n",
    "    \n",
    "    if kTemp < 0:\n",
    "        print(\"I highly doubt that...\")\n",
    "\n",
    "    # this is the classical formula we learn in grade school\n",
    "        \n",
    "    return kTemp*9/5 - 459.67"
   ]
  },
  {
   "cell_type": "code",
   "execution_count": 9,
   "metadata": {
    "collapsed": false
   },
   "outputs": [],
   "source": [
    "# how to use the function\n",
    "x = K2F(0, reverse = True)"
   ]
  },
  {
   "cell_type": "code",
   "execution_count": 10,
   "metadata": {
    "collapsed": false
   },
   "outputs": [
    {
     "name": "stdout",
     "output_type": "stream",
     "text": [
      "255.3722222222222\n"
     ]
    }
   ],
   "source": [
    "# Check out the function's result\n",
    "print(x)"
   ]
  },
  {
   "cell_type": "code",
   "execution_count": 6,
   "metadata": {
    "collapsed": true
   },
   "outputs": [],
   "source": [
    "#convert Kelvin to Fahrenheit\n",
    "# YOUR FUNCTION HERE\n",
    "\n",
    "def K2F(kTemp, reverse = False):\n",
    "\n",
    "    if reverse:\n",
    "        return (kTemp + 459.67)*5/9\n",
    "    else:\n",
    "\n",
    "        if kTemp < 0:\n",
    "            print(\"I highly doubt that...\")\n",
    "\n",
    "        # this is the classical formula we learn in grade school\n",
    "\n",
    "        return kTemp*9/5 - 459.67"
   ]
  },
  {
   "cell_type": "markdown",
   "metadata": {},
   "source": [
    "Here's the goal:\n",
    "\n",
    "**Which constellation is a given point in?**\n",
    "\n",
    "This is the detailed constellation boundary lines data:\n",
    "http://vizier.cfa.harvard.edu/viz-bin/Cat?cat=VI%2F49\n",
    "\n",
    "You could use this data and do the full \"Ray Casting\" approach, or even cheat using matpltlib functions!\n",
    "http://stackoverflow.com/a/23453678\n",
    "\n",
    "\n",
    "A simplified approach from [Roman 1987](http://cdsads.u-strasbg.fr/abs/1987PASP...99..695R):\n",
    "http://vizier.cfa.harvard.edu/viz-bin/Cat?VI/42#sRM2.1"
   ]
  },
  {
   "cell_type": "code",
   "execution_count": 11,
   "metadata": {
    "collapsed": false,
    "scrolled": false
   },
   "outputs": [],
   "source": [
    "# This is a sloppy way to read in the floats for the coordinates, and then the strings for the constellation names.\n",
    "RAu, RAl, Decl = np.loadtxt('data/data.txt', delimiter=',', usecols=(0,1,2), unpack=True)\n",
    "names = np.loadtxt('data/data.txt', delimiter=',', usecols=(3,), unpack=True, dtype='str')"
   ]
  },
  {
   "cell_type": "code",
   "execution_count": 51,
   "metadata": {
    "collapsed": false
   },
   "outputs": [],
   "source": [
    "def Constellation (thisRAu, thisDecl):\n",
    "    \n",
    "    RAu, RAl, Decl = np.loadtxt('data/data.txt', delimiter=',', usecols=(0,1,2), unpack=True)\n",
    "    names = np.loadtxt('data/data.txt', delimiter=',', usecols=(3,), unpack=True, dtype='str')\n",
    "    \n",
    "    for i in range(Decl.size):\n",
    "        #print (i)\n",
    "        if Decl[i] <= thisDecl:\n",
    "            print (\"OI!!!!!!!!!!!!!!!\")\n",
    "            break;\n",
    "    for i in range(i, RAu.size):\n",
    "        #print (i)\n",
    "        if RAu[i] >= thisRAu:\n",
    "            print (\"OI!!!!!!!!!!!!!!!\")\n",
    "            break;\n",
    "    for i in range(i, RAl.size):\n",
    "        #print (i)\n",
    "        if RAl[i] <= thisRAu:\n",
    "            print (\"OI!!!!!!!!!!!!!!!\")\n",
    "            break;\n",
    "    \n",
    "    return names[i]"
   ]
  },
  {
   "cell_type": "code",
   "execution_count": 50,
   "metadata": {
    "collapsed": false
   },
   "outputs": [
    {
     "name": "stdout",
     "output_type": "stream",
     "text": [
      "OI!!!!!!!!!!!!!!!\n"
     ]
    },
    {
     "data": {
      "text/plain": [
       "\"b'MEN'\""
      ]
     },
     "execution_count": 50,
     "metadata": {},
     "output_type": "execute_result"
    }
   ],
   "source": [
    "Constellation(14.78, -79.03)"
   ]
  },
  {
   "cell_type": "code",
   "execution_count": null,
   "metadata": {
    "collapsed": true
   },
   "outputs": [],
   "source": []
  }
 ],
 "metadata": {
  "kernelspec": {
   "display_name": "Python 3",
   "language": "python",
   "name": "python3"
  },
  "language_info": {
   "codemirror_mode": {
    "name": "ipython",
    "version": 3
   },
   "file_extension": ".py",
   "mimetype": "text/x-python",
   "name": "python",
   "nbconvert_exporter": "python",
   "pygments_lexer": "ipython3",
   "version": "3.5.1"
  }
 },
 "nbformat": 4,
 "nbformat_minor": 0
}
